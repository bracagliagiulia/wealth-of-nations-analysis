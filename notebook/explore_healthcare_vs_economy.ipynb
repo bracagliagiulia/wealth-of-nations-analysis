{
 "cells": [
  {
   "cell_type": "code",
   "execution_count": null,
   "id": "ffa00a51-aff1-41e1-b1f1-323fb8fbb185",
   "metadata": {},
   "outputs": [],
   "source": [
    "# explore_healthcare_vs_economy.ipynb\n",
    "\n",
    "# Importing only the libraries we know how to use\n",
    "import matplotlib.pyplot as plt\n",
    "\n",
    "# Reading the data manually\n",
    "file_path = '../data/worldbank_healthcare_data.csv'\n",
    "\n",
    "# Let's read the file line by line\n",
    "with open(file_path, 'r', encoding='utf-8') as f:\n",
    "    lines = f.readlines()\n",
    "\n",
    "# Remove the header (first line)\n",
    "header = lines[0].strip().split(',')\n",
    "data = [line.strip().split(',') for line in lines[1:]]\n",
    "\n",
    "# Check first 5 rows\n",
    "for row in data[:5]:\n",
    "    print(row)"
   ]
  },
  {
   "cell_type": "code",
   "execution_count": null,
   "id": "2671d5b0",
   "metadata": {},
   "outputs": [],
   "source": [
    "# Example: count how many rows have missing data\n",
    "missing_rows = 0\n",
    "for row in data:\n",
    "    if '' in row:\n",
    "        missing_rows += 1\n",
    "print(\"Rows with missing data:\", missing_rows)\n",
    "\n",
    "# Example: extract GDP per capita (assuming it's in column 2)\n",
    "gdp_values = []\n",
    "for row in data:\n",
    "    try:\n",
    "        gdp = float(row[2])\n",
    "        gdp_values.append(gdp)\n",
    "    except:\n",
    "        pass\n",
    "\n",
    "# Compute the average manually\n",
    "average_gdp = sum(gdp_values) / len(gdp_values)\n",
    "print(\"Average GDP per capita:\", average_gdp)"
   ]
  },
  {
   "cell_type": "code",
   "execution_count": null,
   "id": "076c0456",
   "metadata": {},
   "outputs": [],
   "source": [
    "# Basic plot of GDP values\n",
    "plt.plot(gdp_values[:50])  # first 50 countries\n",
    "plt.title(\"GDP per Capita (first 50 countries)\")\n",
    "plt.xlabel(\"Country index\")\n",
    "plt.ylabel(\"GDP per Capita\")\n",
    "plt.show()"
   ]
  }
 ],
 "metadata": {
  "kernelspec": {
   "display_name": "Python 3 (ipykernel)",
   "language": "python",
   "name": "python3"
  },
  "language_info": {
   "codemirror_mode": {
    "name": "ipython",
    "version": 3
   },
   "file_extension": ".py",
   "mimetype": "text/x-python",
   "name": "python",
   "nbconvert_exporter": "python",
   "pygments_lexer": "ipython3",
   "version": "3.14.0"
  }
 },
 "nbformat": 4,
 "nbformat_minor": 5
}
